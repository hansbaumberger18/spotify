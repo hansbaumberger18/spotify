{
 "cells": [
  {
   "cell_type": "markdown",
   "id": "0f0be509-7a48-4fc0-a2fe-e21ab9ba4e05",
   "metadata": {},
   "source": [
    "# Data JOINT edited para model"
   ]
  },
  {
   "cell_type": "code",
   "execution_count": 6,
   "id": "7c704e49-35e3-4e96-ba8d-bea9427d221e",
   "metadata": {},
   "outputs": [],
   "source": [
    "import pandas as pd\n",
    "import numpy as np\n",
    "\n",
    "data = pd.read_csv('./data/JOINT.csv')\n",
    "\n",
    "data.drop(columns = ['time_signature'], inplace = True)\n",
    "\n",
    "# Drop rows containing null values as they aren't a significant number\n",
    "data.dropna(inplace = True)\n",
    "data.drop_duplicates(['id'], inplace = True)\n",
    "\n",
    "#change release_date to datetime\n",
    "data['release_year'] = data['release_date'].apply(lambda x: x.split('-')[0])\n",
    "data.drop(columns = ['release_date'], inplace = True)\n",
    "\n",
    "#Change duration in ms to seconds and drop duration_ms column\n",
    "data['duration'] = data['duration_ms'].apply(lambda x: round(x/1000))\n",
    "data.drop(columns = ['duration_ms'], inplace = True)\n",
    "\n",
    "#Saving the dataset\n",
    "data.to_csv('./data/MODEL.csv', index = False)"
   ]
  },
  {
   "cell_type": "code",
   "execution_count": 7,
   "id": "795a7357-3411-499a-b945-65b0a0264e30",
   "metadata": {},
   "outputs": [
    {
     "data": {
      "text/plain": [
       "(27859, 16)"
      ]
     },
     "execution_count": 7,
     "metadata": {},
     "output_type": "execute_result"
    }
   ],
   "source": [
    "data = pd.read_csv('./data/MODEL.csv')\n",
    "\n",
    "data.shape"
   ]
  },
  {
   "cell_type": "code",
   "execution_count": 8,
   "id": "6f30fedc-66bb-4400-98b3-3e01233e77e5",
   "metadata": {},
   "outputs": [
    {
     "data": {
      "text/plain": [
       "(27859, 13)"
      ]
     },
     "execution_count": 8,
     "metadata": {},
     "output_type": "execute_result"
    }
   ],
   "source": [
    "X = data.select_dtypes(np.number)\n",
    "X.shape"
   ]
  },
  {
   "cell_type": "code",
   "execution_count": null,
   "id": "8738cbfa-38db-4944-9cb9-37e161934efa",
   "metadata": {},
   "outputs": [],
   "source": []
  }
 ],
 "metadata": {
  "kernelspec": {
   "display_name": "Python 3",
   "language": "python",
   "name": "python3"
  },
  "language_info": {
   "codemirror_mode": {
    "name": "ipython",
    "version": 3
   },
   "file_extension": ".py",
   "mimetype": "text/x-python",
   "name": "python",
   "nbconvert_exporter": "python",
   "pygments_lexer": "ipython3",
   "version": "3.8.8"
  }
 },
 "nbformat": 4,
 "nbformat_minor": 5
}

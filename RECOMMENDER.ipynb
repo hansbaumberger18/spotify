{
 "cells": [
  {
   "cell_type": "code",
   "execution_count": 1,
   "id": "239be666-72e5-4b8b-a9b5-5f26d6a6036a",
   "metadata": {},
   "outputs": [],
   "source": [
    "#https://www.youtube.com/watch?v=tooddaC14q4&list=TLPQMjAwMTIwMjJJUuP7ZXiQDQ&index=2\n",
    "\n",
    "Content Based Recommendation System:\n",
    "    "
   ]
  },
  {
   "cell_type": "code",
   "execution_count": 2,
   "id": "ebd1d00f-1472-49ef-8b91-51fa2fb44b9c",
   "metadata": {},
   "outputs": [],
   "source": [
    "#Este video me servira una vez tenga el DataFrame listo!"
   ]
  },
  {
   "cell_type": "code",
   "execution_count": 1,
   "id": "8ad6bc99-de48-4647-8154-59ff392de479",
   "metadata": {},
   "outputs": [],
   "source": [
    "#https://www.youtube.com/watch?v=XDbj6PxaSf0"
   ]
  },
  {
   "cell_type": "markdown",
   "id": "a189239a-cafb-4835-982b-6f6271a615e3",
   "metadata": {},
   "source": [
    "Recommend songs based on last songs listened on Spotiy:\n",
    "\n",
    "Process: API->DataPrep->FeatureEng->Model->API->Recomend\n",
    "\n"
   ]
  },
  {
   "cell_type": "code",
   "execution_count": null,
   "id": "41ba7368-682b-45ec-8c29-b9b9b2276f3f",
   "metadata": {},
   "outputs": [],
   "source": []
  },
  {
   "cell_type": "code",
   "execution_count": null,
   "id": "49dd462c-2482-4d98-9550-9a6e37b09ff0",
   "metadata": {},
   "outputs": [],
   "source": []
  },
  {
   "cell_type": "code",
   "execution_count": null,
   "id": "5ddd2cd0-ca92-4d46-88a7-accecaaae01d",
   "metadata": {},
   "outputs": [],
   "source": [
    "#https://www.youtube.com/watch?v=34BBEVf94Rw"
   ]
  }
 ],
 "metadata": {
  "kernelspec": {
   "display_name": "Python 3",
   "language": "python",
   "name": "python3"
  },
  "language_info": {
   "codemirror_mode": {
    "name": "ipython",
    "version": 3
   },
   "file_extension": ".py",
   "mimetype": "text/x-python",
   "name": "python",
   "nbconvert_exporter": "python",
   "pygments_lexer": "ipython3",
   "version": "3.8.8"
  }
 },
 "nbformat": 4,
 "nbformat_minor": 5
}

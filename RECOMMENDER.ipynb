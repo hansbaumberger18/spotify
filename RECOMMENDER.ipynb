{
 "cells": [
  {
   "cell_type": "code",
   "execution_count": 1,
   "id": "239be666-72e5-4b8b-a9b5-5f26d6a6036a",
   "metadata": {},
   "outputs": [],
   "source": [
    "#https://www.youtube.com/watch?v=tooddaC14q4&list=TLPQMjAwMTIwMjJJUuP7ZXiQDQ&index=2"
   ]
  },
  {
   "cell_type": "code",
   "execution_count": 2,
   "id": "ebd1d00f-1472-49ef-8b91-51fa2fb44b9c",
   "metadata": {},
   "outputs": [],
   "source": [
    "#Este video me servira una vez tenga el DataFrame listo!"
   ]
  },
  {
   "cell_type": "code",
   "execution_count": null,
   "id": "79e89fba-2aa7-4a75-bdb9-6cb512c9726d",
   "metadata": {},
   "outputs": [],
   "source": []
  }
 ],
 "metadata": {
  "kernelspec": {
   "display_name": "Python 3",
   "language": "python",
   "name": "python3"
  },
  "language_info": {
   "codemirror_mode": {
    "name": "ipython",
    "version": 3
   },
   "file_extension": ".py",
   "mimetype": "text/x-python",
   "name": "python",
   "nbconvert_exporter": "python",
   "pygments_lexer": "ipython3",
   "version": "3.8.8"
  }
 },
 "nbformat": 4,
 "nbformat_minor": 5
}

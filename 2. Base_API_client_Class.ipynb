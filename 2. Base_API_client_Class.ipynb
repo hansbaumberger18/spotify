{
 "cells": [
  {
   "cell_type": "markdown",
   "id": "4c28e610-8556-4eee-85e2-01624214397e",
   "metadata": {},
   "source": [
    "https://www.youtube.com/watch?v=xdq6Gz33khQ&list=TLPQMTMwMTIwMjJO8mOZGdqcXA&index=4"
   ]
  },
  {
   "cell_type": "code",
   "execution_count": 1,
   "id": "79a5b0f1-f51a-49c5-b72f-3f4cbd27829c",
   "metadata": {},
   "outputs": [
    {
     "name": "stdout",
     "output_type": "stream",
     "text": [
      "Requirement already satisfied: requests in /Users/hansbaumberger/opt/anaconda3/envs/dsi-111/lib/python3.8/site-packages (2.26.0)\n",
      "Requirement already satisfied: certifi>=2017.4.17 in /Users/hansbaumberger/opt/anaconda3/envs/dsi-111/lib/python3.8/site-packages (from requests) (2021.10.8)\n",
      "Requirement already satisfied: idna<4,>=2.5 in /Users/hansbaumberger/opt/anaconda3/envs/dsi-111/lib/python3.8/site-packages (from requests) (2.10)\n",
      "Requirement already satisfied: urllib3<1.27,>=1.21.1 in /Users/hansbaumberger/opt/anaconda3/envs/dsi-111/lib/python3.8/site-packages (from requests) (1.26.4)\n",
      "Requirement already satisfied: charset-normalizer~=2.0.0 in /Users/hansbaumberger/opt/anaconda3/envs/dsi-111/lib/python3.8/site-packages (from requests) (2.0.9)\n"
     ]
    }
   ],
   "source": [
    "!pip install requests"
   ]
  },
  {
   "cell_type": "code",
   "execution_count": 3,
   "id": "6335bc7b-0652-4f71-924e-8a73d128cb42",
   "metadata": {},
   "outputs": [],
   "source": [
    "import requests\n",
    "import datetime\n",
    "\n",
    "import base64"
   ]
  },
  {
   "cell_type": "code",
   "execution_count": 4,
   "id": "ad347ff6-ca27-425a-849f-ae1f5322c207",
   "metadata": {},
   "outputs": [],
   "source": [
    "client_id = '8e6e962237b74490aca58fd858c5a54f'\n",
    "client_secret = '06fd25cc7b164f7e88927938c5c1a589'"
   ]
  },
  {
   "cell_type": "code",
   "execution_count": 10,
   "id": "94b68ad0-6503-4d60-8190-d094c1931314",
   "metadata": {},
   "outputs": [],
   "source": [
    "# This is now a reusable Spotify API object\n",
    "\n",
    "class SpotifyAPI(object):\n",
    "    access_token = None\n",
    "    access_token_expires = datetime.datetime.now()\n",
    "    access_token_did_expire = True\n",
    "    client_id = None\n",
    "    client_secret = None\n",
    "    token_url = \"https://accounts.spotify.com/api/token\"\n",
    "    \n",
    "    def __init__(self, client_id, client_secret, *args, **kwargs):\n",
    "        super().__init__(*args, **kwargs)\n",
    "        self.client_id = client_id\n",
    "        self.client_secret = client_secret\n",
    "\n",
    "    def get_client_credentials(self):\n",
    "        \"\"\"\n",
    "        Returns a base64 encoded string\n",
    "        \"\"\"\n",
    "        client_id = self.client_id\n",
    "        client_secret = self.client_secret\n",
    "        if client_secret == None or client_id == None:\n",
    "            raise Exception(\"You must set client_id and client_secret\")\n",
    "        client_creds = f\"{client_id}:{client_secret}\"\n",
    "        client_creds_b64 = base64.b64encode(client_creds.encode())\n",
    "        return client_creds_b64.decode()\n",
    "    \n",
    "    def get_token_headers(self):\n",
    "        client_creds_b64 = self.get_client_credentials()\n",
    "        return {\n",
    "            \"Authorization\": f\"Basic {client_creds_b64}\"\n",
    "        }\n",
    "    \n",
    "    def get_token_data(self):\n",
    "        return {\n",
    "            \"grant_type\": \"client_credentials\"\n",
    "        } \n",
    "    \n",
    "    def perform_auth(self):\n",
    "        token_url = self.token_url\n",
    "        token_data = self.get_token_data()\n",
    "        token_headers = self.get_token_headers()\n",
    "        r = requests.post(token_url, data=token_data, headers=token_headers)\n",
    "        if r.status_code not in range(200, 299):\n",
    "            return False\n",
    "        data = r.json()\n",
    "        now = datetime.datetime.now()\n",
    "        access_token = data['access_token']\n",
    "        expires_in = data['expires_in'] # seconds\n",
    "        expires = now + datetime.timedelta(seconds=expires_in)\n",
    "        self.access_token = access_token\n",
    "        self.access_token_expires = expires\n",
    "        self.access_token_did_expire = expires < now\n",
    "        return True\n",
    "        "
   ]
  },
  {
   "cell_type": "code",
   "execution_count": 6,
   "id": "dccc7b02-ec99-4cde-ad30-04da4fb4d563",
   "metadata": {},
   "outputs": [],
   "source": [
    "spotify = SpotifyAPI(client_id, client_secret)"
   ]
  },
  {
   "cell_type": "code",
   "execution_count": 7,
   "id": "31f90973-6bcc-4bca-bbb4-033537c5b0f5",
   "metadata": {},
   "outputs": [
    {
     "data": {
      "text/plain": [
       "True"
      ]
     },
     "execution_count": 7,
     "metadata": {},
     "output_type": "execute_result"
    }
   ],
   "source": [
    "spotify.perform_auth()"
   ]
  },
  {
   "cell_type": "code",
   "execution_count": 8,
   "id": "0e3ea5c9-1bdd-400c-8790-3995821bcac8",
   "metadata": {},
   "outputs": [
    {
     "data": {
      "text/plain": [
       "'BQCOgtCIiLe5ZI4CVXRYHp04Zo6UoVK8GRY-Zig_Ix1D4i_wzFlBhcu9hyr6Z7FNDA3XnX0AmIj5Xb7uYX4'"
      ]
     },
     "execution_count": 8,
     "metadata": {},
     "output_type": "execute_result"
    }
   ],
   "source": [
    "spotify.access_token"
   ]
  },
  {
   "cell_type": "code",
   "execution_count": 9,
   "id": "cc99c0c0-0491-4974-b4d8-c67433566ca1",
   "metadata": {},
   "outputs": [],
   "source": [
    "# spotify.search"
   ]
  },
  {
   "cell_type": "code",
   "execution_count": null,
   "id": "bf223430-709e-4d97-afd2-adc194869334",
   "metadata": {},
   "outputs": [],
   "source": []
  }
 ],
 "metadata": {
  "kernelspec": {
   "display_name": "Python 3",
   "language": "python",
   "name": "python3"
  },
  "language_info": {
   "codemirror_mode": {
    "name": "ipython",
    "version": 3
   },
   "file_extension": ".py",
   "mimetype": "text/x-python",
   "name": "python",
   "nbconvert_exporter": "python",
   "pygments_lexer": "ipython3",
   "version": "3.8.8"
  }
 },
 "nbformat": 4,
 "nbformat_minor": 5
}

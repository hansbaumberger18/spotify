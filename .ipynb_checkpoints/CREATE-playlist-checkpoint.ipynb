{
 "cells": [
  {
   "cell_type": "code",
   "execution_count": 1,
   "id": "a9778cf1-2a9c-4a2e-b454-2c3bfa6a61fb",
   "metadata": {},
   "outputs": [],
   "source": [
    "#https://www.youtube.com/watch?v=jSOrEmKUd_c&list=TLPQMDMwMjIwMjKdmvQn1CLIfw&index=5"
   ]
  },
  {
   "cell_type": "code",
   "execution_count": 2,
   "id": "6d8f75c7-f850-4de7-96ed-9f446bffff47",
   "metadata": {},
   "outputs": [],
   "source": [
    "#https://www.kaggle.com/vatsalmavani/music-recommendation-system-using-spotify-dataset"
   ]
  },
  {
   "cell_type": "markdown",
   "id": "164f121d-e7ad-4f25-ac16-9ecb64ed74c5",
   "metadata": {},
   "source": [
    "----\n",
    "## Create Playlist searching for input song"
   ]
  },
  {
   "cell_type": "code",
   "execution_count": null,
   "id": "9ca6dd89-9c8f-4904-b71e-db1ab9b8dd42",
   "metadata": {},
   "outputs": [],
   "source": [
    "import spotipy\n",
    "from spotipy.oauth2 import SpotifyOAuth\n",
    "import json\n",
    "\n",
    "#defines what resources we are asking from the spotify user are\n",
    "scope  = 'playlist-modify-public'\n",
    "username = '1120707104'\n",
    "\n",
    "#authenticates the user, so the application can be used\n",
    "token = SpotifyOAuth(scope=scope,username=username)\n",
    "spotifyObject = spotipy.Spotify(auth_manager=token)\n",
    "\n",
    "\n",
    "#create playlist\n",
    "playlist_name = input('Enter a playlist name:')\n",
    "playlist_description = input('Enter a playlist description:')\n",
    "\n",
    "spotifyObject.user_playlist_create(user = username, name= playlist_name, public = True, description = playlist_description)\n",
    "\n",
    "user_input = ''\n",
    "user_input = input('Enter song name:')\n",
    "list_of_songs = []\n",
    "results = spotify.search(q=user_input)\n",
    "print(results['tracks']['items'][0]['uri'])\n",
    "\n",
    "newResults = results ['tracks']['items'][0]['uri']\n",
    "\n",
    "#create list of new songs\n",
    "list_of_songs.append(newResults)\n",
    "\n",
    "#identify id of newest playlist\n",
    "prePlaylists =. spotify.user_playlists(user=username)\n",
    "playlist = prePlaylists['items'][0]['id']\n",
    "\n",
    "#add songs\n",
    "spotify.user_playlist_add_tracks(user = username, playlist_id = playlist, tracks = list_os_songs)"
   ]
  }
 ],
 "metadata": {
  "kernelspec": {
   "display_name": "Python 3",
   "language": "python",
   "name": "python3"
  },
  "language_info": {
   "codemirror_mode": {
    "name": "ipython",
    "version": 3
   },
   "file_extension": ".py",
   "mimetype": "text/x-python",
   "name": "python",
   "nbconvert_exporter": "python",
   "pygments_lexer": "ipython3",
   "version": "3.8.8"
  }
 },
 "nbformat": 4,
 "nbformat_minor": 5
}

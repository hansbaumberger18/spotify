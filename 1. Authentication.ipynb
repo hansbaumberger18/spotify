{
 "cells": [
  {
   "cell_type": "markdown",
   "id": "4c28e610-8556-4eee-85e2-01624214397e",
   "metadata": {},
   "source": [
    "https://www.youtube.com/watch?v=xdq6Gz33khQ&list=TLPQMTMwMTIwMjJO8mOZGdqcXA&index=4"
   ]
  },
  {
   "cell_type": "code",
   "execution_count": 1,
   "id": "79a5b0f1-f51a-49c5-b72f-3f4cbd27829c",
   "metadata": {},
   "outputs": [
    {
     "name": "stdout",
     "output_type": "stream",
     "text": [
      "Requirement already satisfied: requests in /Users/hansbaumberger/opt/anaconda3/envs/dsi-111/lib/python3.8/site-packages (2.26.0)\n",
      "Requirement already satisfied: certifi>=2017.4.17 in /Users/hansbaumberger/opt/anaconda3/envs/dsi-111/lib/python3.8/site-packages (from requests) (2021.10.8)\n",
      "Requirement already satisfied: idna<4,>=2.5 in /Users/hansbaumberger/opt/anaconda3/envs/dsi-111/lib/python3.8/site-packages (from requests) (2.10)\n",
      "Requirement already satisfied: urllib3<1.27,>=1.21.1 in /Users/hansbaumberger/opt/anaconda3/envs/dsi-111/lib/python3.8/site-packages (from requests) (1.26.4)\n",
      "Requirement already satisfied: charset-normalizer~=2.0.0 in /Users/hansbaumberger/opt/anaconda3/envs/dsi-111/lib/python3.8/site-packages (from requests) (2.0.9)\n"
     ]
    }
   ],
   "source": [
    "!pip install requests"
   ]
  },
  {
   "cell_type": "code",
   "execution_count": 6,
   "id": "6335bc7b-0652-4f71-924e-8a73d128cb42",
   "metadata": {},
   "outputs": [],
   "source": [
    "import requests\n",
    "import datetime\n",
    "\n",
    "import base64"
   ]
  },
  {
   "cell_type": "code",
   "execution_count": 2,
   "id": "ad347ff6-ca27-425a-849f-ae1f5322c207",
   "metadata": {},
   "outputs": [],
   "source": [
    "client_id = '8e6e962237b74490aca58fd858c5a54f'\n",
    "client_secret = '06fd25cc7b164f7e88927938c5c1a589'"
   ]
  },
  {
   "cell_type": "code",
   "execution_count": 3,
   "id": "94b68ad0-6503-4d60-8190-d094c1931314",
   "metadata": {},
   "outputs": [],
   "source": [
    "# do a lookup for a token\n",
    "# this token is for future requests"
   ]
  },
  {
   "cell_type": "code",
   "execution_count": 4,
   "id": "90598635-f0d9-4bc1-99c6-b5004537f806",
   "metadata": {},
   "outputs": [
    {
     "data": {
      "text/plain": [
       "str"
      ]
     },
     "execution_count": 4,
     "metadata": {},
     "output_type": "execute_result"
    }
   ],
   "source": [
    "client_creds = f\"{client_id}:{client_secret}\"\n",
    "type(client_creds)"
   ]
  },
  {
   "cell_type": "code",
   "execution_count": 12,
   "id": "3ca40956-505d-4cce-ac0e-bcc866afb8f7",
   "metadata": {},
   "outputs": [
    {
     "data": {
      "text/plain": [
       "bytes"
      ]
     },
     "execution_count": 12,
     "metadata": {},
     "output_type": "execute_result"
    }
   ],
   "source": [
    "#We want to turn client creds into dtype: bytes! for the \"token_headers\"\n",
    "client_creds_b64 = base64.b64encode(client_creds.encode()) \n",
    "type(client_creds_b64)"
   ]
  },
  {
   "cell_type": "code",
   "execution_count": 8,
   "id": "ec0b82b4-98b8-464d-ad27-52891e1d2718",
   "metadata": {},
   "outputs": [],
   "source": [
    "# base64.b64decode(client_creds_b64)"
   ]
  },
  {
   "cell_type": "code",
   "execution_count": 9,
   "id": "21dc825d-fab0-4156-bc17-3e8d58f34aea",
   "metadata": {},
   "outputs": [],
   "source": [
    "token_url = \"https://accounts.spotify.com/api/token\"\n",
    "method = \"POST\"\n",
    "token_data = {\n",
    "    \"grant_type\": \"client_credentials\"\n",
    "}\n",
    "token_headers = {\n",
    "    \"Authorization\": f\"Basic {client_creds_b64.decode()}\" # <base64 encoded client_id:client_secret>\n",
    "}"
   ]
  },
  {
   "cell_type": "code",
   "execution_count": 10,
   "id": "f1f039e5-9151-47ce-86ce-3862bf16fd96",
   "metadata": {},
   "outputs": [
    {
     "name": "stdout",
     "output_type": "stream",
     "text": [
      "{'access_token': 'BQD2TzZYgx8hwhXvPAwvlCRLstH9h8t89c54dEAqrMR39podCqXlRV4ZF-ktmwq1xdkWm8jEY0bhlGr5awQ', 'token_type': 'Bearer', 'expires_in': 3600}\n"
     ]
    }
   ],
   "source": [
    "r = requests.post(token_url, data=token_data, headers=token_headers)\n",
    "print(r.json())\n",
    "valid_request = r.status_code in range(200, 299)"
   ]
  },
  {
   "cell_type": "code",
   "execution_count": 11,
   "id": "b8238fe9-e47e-4b2f-be48-5367c16abe7e",
   "metadata": {},
   "outputs": [],
   "source": [
    "if valid_request:\n",
    "    token_response_data = r.json()\n",
    "    now = datetime.datetime.now()\n",
    "    access_token = token_response_data['access_token']\n",
    "    expires_in = token_response_data['expires_in'] # seconds\n",
    "    expires = now + datetime.timedelta(seconds=expires_in)\n",
    "    did_expire = expires < now"
   ]
  },
  {
   "cell_type": "code",
   "execution_count": null,
   "id": "91df1fa2-276b-4da9-93e7-3ac009a69046",
   "metadata": {},
   "outputs": [],
   "source": []
  }
 ],
 "metadata": {
  "kernelspec": {
   "display_name": "Python 3",
   "language": "python",
   "name": "python3"
  },
  "language_info": {
   "codemirror_mode": {
    "name": "ipython",
    "version": 3
   },
   "file_extension": ".py",
   "mimetype": "text/x-python",
   "name": "python",
   "nbconvert_exporter": "python",
   "pygments_lexer": "ipython3",
   "version": "3.8.8"
  }
 },
 "nbformat": 4,
 "nbformat_minor": 5
}

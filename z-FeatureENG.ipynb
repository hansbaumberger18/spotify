{
 "cells": [
  {
   "cell_type": "markdown",
   "id": "e284b202-a5e5-412c-b47b-96806317e585",
   "metadata": {},
   "source": [
    "# EDA"
   ]
  },
  {
   "cell_type": "code",
   "execution_count": 1,
   "id": "6e13c214-1c9c-4052-895a-9b469032fbf9",
   "metadata": {},
   "outputs": [],
   "source": [
    "import pandas as pd\n",
    "import numpy as np\n",
    "import matplotlib.pyplot as plt\n",
    "import seaborn as sns"
   ]
  },
  {
   "cell_type": "code",
   "execution_count": 2,
   "id": "13cd9870-f67d-4b0f-bfb6-32cde59b4deb",
   "metadata": {},
   "outputs": [
    {
     "name": "stdout",
     "output_type": "stream",
     "text": [
      "(31023, 17)\n"
     ]
    },
    {
     "data": {
      "text/html": [
       "<div>\n",
       "<style scoped>\n",
       "    .dataframe tbody tr th:only-of-type {\n",
       "        vertical-align: middle;\n",
       "    }\n",
       "\n",
       "    .dataframe tbody tr th {\n",
       "        vertical-align: top;\n",
       "    }\n",
       "\n",
       "    .dataframe thead th {\n",
       "        text-align: right;\n",
       "    }\n",
       "</style>\n",
       "<table border=\"1\" class=\"dataframe\">\n",
       "  <thead>\n",
       "    <tr style=\"text-align: right;\">\n",
       "      <th></th>\n",
       "      <th>id</th>\n",
       "      <th>title</th>\n",
       "      <th>all_artists</th>\n",
       "      <th>popularity</th>\n",
       "      <th>release_date</th>\n",
       "      <th>danceability</th>\n",
       "      <th>energy</th>\n",
       "      <th>key</th>\n",
       "      <th>loudness</th>\n",
       "      <th>mode</th>\n",
       "      <th>acousticness</th>\n",
       "      <th>instrumentalness</th>\n",
       "      <th>liveness</th>\n",
       "      <th>valence</th>\n",
       "      <th>tempo</th>\n",
       "      <th>duration_ms</th>\n",
       "      <th>time_signature</th>\n",
       "    </tr>\n",
       "  </thead>\n",
       "  <tbody>\n",
       "    <tr>\n",
       "      <th>0</th>\n",
       "      <td>2ROJOb98GorxStuOuZWcGd</td>\n",
       "      <td>Have You Ever Loved A Woman?</td>\n",
       "      <td>Derek &amp; The Dominos</td>\n",
       "      <td>61</td>\n",
       "      <td>1970-11-01</td>\n",
       "      <td>0.303</td>\n",
       "      <td>0.648</td>\n",
       "      <td>0</td>\n",
       "      <td>-6.795</td>\n",
       "      <td>1</td>\n",
       "      <td>0.642</td>\n",
       "      <td>0.053</td>\n",
       "      <td>0.407</td>\n",
       "      <td>0.644</td>\n",
       "      <td>170.379</td>\n",
       "      <td>412960</td>\n",
       "      <td>3</td>\n",
       "    </tr>\n",
       "  </tbody>\n",
       "</table>\n",
       "</div>"
      ],
      "text/plain": [
       "                       id                         title          all_artists  \\\n",
       "0  2ROJOb98GorxStuOuZWcGd  Have You Ever Loved A Woman?  Derek & The Dominos   \n",
       "\n",
       "   popularity release_date  danceability  energy  key  loudness  mode  \\\n",
       "0          61   1970-11-01         0.303   0.648    0    -6.795     1   \n",
       "\n",
       "   acousticness  instrumentalness  liveness  valence    tempo  duration_ms  \\\n",
       "0         0.642             0.053     0.407    0.644  170.379       412960   \n",
       "\n",
       "   time_signature  \n",
       "0               3  "
      ]
     },
     "execution_count": 2,
     "metadata": {},
     "output_type": "execute_result"
    }
   ],
   "source": [
    "df = pd.read_csv('./data/JOINT.csv')\n",
    "\n",
    "print(df.shape)\n",
    "df.head(1)"
   ]
  },
  {
   "cell_type": "code",
   "execution_count": 3,
   "id": "f1d75ebb-09ba-4086-bc5e-1f747c81bf49",
   "metadata": {},
   "outputs": [],
   "source": [
    "df.drop(columns = ['time_signature'], inplace = True)"
   ]
  },
  {
   "cell_type": "code",
   "execution_count": 4,
   "id": "038c1969-7d9f-417b-abfb-87877da1d7d7",
   "metadata": {},
   "outputs": [
    {
     "data": {
      "text/plain": [
       "(31020, 16)"
      ]
     },
     "execution_count": 4,
     "metadata": {},
     "output_type": "execute_result"
    }
   ],
   "source": [
    "# Drop rows containing null values as they aren't a significant number\n",
    "df.dropna(inplace = True)\n",
    "df.shape"
   ]
  },
  {
   "cell_type": "code",
   "execution_count": 5,
   "id": "35868479-af61-4090-a9cb-f7c3704b5e06",
   "metadata": {},
   "outputs": [
    {
     "data": {
      "text/plain": [
       "(27859, 16)"
      ]
     },
     "execution_count": 5,
     "metadata": {},
     "output_type": "execute_result"
    }
   ],
   "source": [
    "df.drop_duplicates(['id'], inplace = True)\n",
    "df.shape"
   ]
  },
  {
   "cell_type": "code",
   "execution_count": 6,
   "id": "8f8222a0-b015-45b9-94fc-776bfce2ef8f",
   "metadata": {},
   "outputs": [
    {
     "name": "stdout",
     "output_type": "stream",
     "text": [
      "<class 'pandas.core.frame.DataFrame'>\n",
      "Int64Index: 27859 entries, 0 to 31022\n",
      "Data columns (total 16 columns):\n",
      " #   Column            Non-Null Count  Dtype  \n",
      "---  ------            --------------  -----  \n",
      " 0   id                27859 non-null  object \n",
      " 1   title             27859 non-null  object \n",
      " 2   all_artists       27859 non-null  object \n",
      " 3   popularity        27859 non-null  int64  \n",
      " 4   release_date      27859 non-null  object \n",
      " 5   danceability      27859 non-null  float64\n",
      " 6   energy            27859 non-null  float64\n",
      " 7   key               27859 non-null  int64  \n",
      " 8   loudness          27859 non-null  float64\n",
      " 9   mode              27859 non-null  int64  \n",
      " 10  acousticness      27859 non-null  float64\n",
      " 11  instrumentalness  27859 non-null  float64\n",
      " 12  liveness          27859 non-null  float64\n",
      " 13  valence           27859 non-null  float64\n",
      " 14  tempo             27859 non-null  float64\n",
      " 15  duration_ms       27859 non-null  int64  \n",
      "dtypes: float64(8), int64(4), object(4)\n",
      "memory usage: 3.6+ MB\n"
     ]
    }
   ],
   "source": [
    "df.info()"
   ]
  },
  {
   "cell_type": "code",
   "execution_count": 7,
   "id": "bc59178f-415a-449c-9198-83a3b7b183c1",
   "metadata": {},
   "outputs": [
    {
     "data": {
      "text/html": [
       "<div>\n",
       "<style scoped>\n",
       "    .dataframe tbody tr th:only-of-type {\n",
       "        vertical-align: middle;\n",
       "    }\n",
       "\n",
       "    .dataframe tbody tr th {\n",
       "        vertical-align: top;\n",
       "    }\n",
       "\n",
       "    .dataframe thead th {\n",
       "        text-align: right;\n",
       "    }\n",
       "</style>\n",
       "<table border=\"1\" class=\"dataframe\">\n",
       "  <thead>\n",
       "    <tr style=\"text-align: right;\">\n",
       "      <th></th>\n",
       "      <th>count</th>\n",
       "      <th>mean</th>\n",
       "      <th>std</th>\n",
       "      <th>min</th>\n",
       "      <th>25%</th>\n",
       "      <th>50%</th>\n",
       "      <th>75%</th>\n",
       "      <th>max</th>\n",
       "    </tr>\n",
       "  </thead>\n",
       "  <tbody>\n",
       "    <tr>\n",
       "      <th>popularity</th>\n",
       "      <td>27859.0</td>\n",
       "      <td>39.724577</td>\n",
       "      <td>25.118889</td>\n",
       "      <td>0.00000</td>\n",
       "      <td>21.0000</td>\n",
       "      <td>44.000000</td>\n",
       "      <td>59.0000</td>\n",
       "      <td>100.000</td>\n",
       "    </tr>\n",
       "    <tr>\n",
       "      <th>danceability</th>\n",
       "      <td>27859.0</td>\n",
       "      <td>0.591953</td>\n",
       "      <td>0.165591</td>\n",
       "      <td>0.00000</td>\n",
       "      <td>0.4880</td>\n",
       "      <td>0.605000</td>\n",
       "      <td>0.7120</td>\n",
       "      <td>0.988</td>\n",
       "    </tr>\n",
       "    <tr>\n",
       "      <th>energy</th>\n",
       "      <td>27859.0</td>\n",
       "      <td>0.664853</td>\n",
       "      <td>0.234083</td>\n",
       "      <td>0.00002</td>\n",
       "      <td>0.5320</td>\n",
       "      <td>0.715000</td>\n",
       "      <td>0.8500</td>\n",
       "      <td>0.999</td>\n",
       "    </tr>\n",
       "    <tr>\n",
       "      <th>key</th>\n",
       "      <td>27859.0</td>\n",
       "      <td>5.328942</td>\n",
       "      <td>3.569749</td>\n",
       "      <td>0.00000</td>\n",
       "      <td>2.0000</td>\n",
       "      <td>5.000000</td>\n",
       "      <td>9.0000</td>\n",
       "      <td>11.000</td>\n",
       "    </tr>\n",
       "    <tr>\n",
       "      <th>loudness</th>\n",
       "      <td>27859.0</td>\n",
       "      <td>-8.004376</td>\n",
       "      <td>4.953295</td>\n",
       "      <td>-47.07000</td>\n",
       "      <td>-9.5075</td>\n",
       "      <td>-6.651000</td>\n",
       "      <td>-4.8970</td>\n",
       "      <td>4.140</td>\n",
       "    </tr>\n",
       "    <tr>\n",
       "      <th>mode</th>\n",
       "      <td>27859.0</td>\n",
       "      <td>0.643921</td>\n",
       "      <td>0.478847</td>\n",
       "      <td>0.00000</td>\n",
       "      <td>0.0000</td>\n",
       "      <td>1.000000</td>\n",
       "      <td>1.0000</td>\n",
       "      <td>1.000</td>\n",
       "    </tr>\n",
       "    <tr>\n",
       "      <th>acousticness</th>\n",
       "      <td>27859.0</td>\n",
       "      <td>0.241546</td>\n",
       "      <td>0.301649</td>\n",
       "      <td>0.00000</td>\n",
       "      <td>0.0123</td>\n",
       "      <td>0.092300</td>\n",
       "      <td>0.3860</td>\n",
       "      <td>0.996</td>\n",
       "    </tr>\n",
       "    <tr>\n",
       "      <th>instrumentalness</th>\n",
       "      <td>27859.0</td>\n",
       "      <td>0.117908</td>\n",
       "      <td>0.269736</td>\n",
       "      <td>0.00000</td>\n",
       "      <td>0.0000</td>\n",
       "      <td>0.000064</td>\n",
       "      <td>0.0159</td>\n",
       "      <td>0.997</td>\n",
       "    </tr>\n",
       "    <tr>\n",
       "      <th>liveness</th>\n",
       "      <td>27859.0</td>\n",
       "      <td>0.186919</td>\n",
       "      <td>0.150959</td>\n",
       "      <td>0.01200</td>\n",
       "      <td>0.0928</td>\n",
       "      <td>0.126000</td>\n",
       "      <td>0.2420</td>\n",
       "      <td>0.987</td>\n",
       "    </tr>\n",
       "    <tr>\n",
       "      <th>valence</th>\n",
       "      <td>27859.0</td>\n",
       "      <td>0.537440</td>\n",
       "      <td>0.250574</td>\n",
       "      <td>0.00000</td>\n",
       "      <td>0.3440</td>\n",
       "      <td>0.546000</td>\n",
       "      <td>0.7410</td>\n",
       "      <td>0.993</td>\n",
       "    </tr>\n",
       "    <tr>\n",
       "      <th>tempo</th>\n",
       "      <td>27859.0</td>\n",
       "      <td>121.258621</td>\n",
       "      <td>28.144055</td>\n",
       "      <td>0.00000</td>\n",
       "      <td>99.9640</td>\n",
       "      <td>120.057000</td>\n",
       "      <td>137.8340</td>\n",
       "      <td>230.008</td>\n",
       "    </tr>\n",
       "    <tr>\n",
       "      <th>duration_ms</th>\n",
       "      <td>27859.0</td>\n",
       "      <td>232159.267418</td>\n",
       "      <td>76804.494857</td>\n",
       "      <td>30000.00000</td>\n",
       "      <td>188239.0000</td>\n",
       "      <td>219253.000000</td>\n",
       "      <td>258456.0000</td>\n",
       "      <td>1412451.000</td>\n",
       "    </tr>\n",
       "  </tbody>\n",
       "</table>\n",
       "</div>"
      ],
      "text/plain": [
       "                    count           mean           std          min  \\\n",
       "popularity        27859.0      39.724577     25.118889      0.00000   \n",
       "danceability      27859.0       0.591953      0.165591      0.00000   \n",
       "energy            27859.0       0.664853      0.234083      0.00002   \n",
       "key               27859.0       5.328942      3.569749      0.00000   \n",
       "loudness          27859.0      -8.004376      4.953295    -47.07000   \n",
       "mode              27859.0       0.643921      0.478847      0.00000   \n",
       "acousticness      27859.0       0.241546      0.301649      0.00000   \n",
       "instrumentalness  27859.0       0.117908      0.269736      0.00000   \n",
       "liveness          27859.0       0.186919      0.150959      0.01200   \n",
       "valence           27859.0       0.537440      0.250574      0.00000   \n",
       "tempo             27859.0     121.258621     28.144055      0.00000   \n",
       "duration_ms       27859.0  232159.267418  76804.494857  30000.00000   \n",
       "\n",
       "                          25%            50%          75%          max  \n",
       "popularity            21.0000      44.000000      59.0000      100.000  \n",
       "danceability           0.4880       0.605000       0.7120        0.988  \n",
       "energy                 0.5320       0.715000       0.8500        0.999  \n",
       "key                    2.0000       5.000000       9.0000       11.000  \n",
       "loudness              -9.5075      -6.651000      -4.8970        4.140  \n",
       "mode                   0.0000       1.000000       1.0000        1.000  \n",
       "acousticness           0.0123       0.092300       0.3860        0.996  \n",
       "instrumentalness       0.0000       0.000064       0.0159        0.997  \n",
       "liveness               0.0928       0.126000       0.2420        0.987  \n",
       "valence                0.3440       0.546000       0.7410        0.993  \n",
       "tempo                 99.9640     120.057000     137.8340      230.008  \n",
       "duration_ms       188239.0000  219253.000000  258456.0000  1412451.000  "
      ]
     },
     "execution_count": 7,
     "metadata": {},
     "output_type": "execute_result"
    }
   ],
   "source": [
    "df.describe().transpose()"
   ]
  },
  {
   "cell_type": "markdown",
   "id": "24e26d91-58f8-4864-9dc9-45082a3f6042",
   "metadata": {},
   "source": [
    "---\n",
    "**Feature engineering:**\n",
    "- change 'release_date' to datetime and create new column with only the year and OHE this column\n",
    "- change 'duration_ms' to 'duration' (miliseconds to seconds)\\\n",
    "(- Normalizing float variables)\n",
    "- Bucketing 'popularity' by first converting it into: yes, medium, not and One-hot-encoding it after\n",
    "- Bucketing 'duratinon' into: long, avg, short and One-hot-encoding it after\n",
    "- Join 'title' and 'all_artist' column into one single one\n",
    "\n",
    "- Multiplicar features que esten mas correlated y probar a ver como salen los clusters"
   ]
  },
  {
   "cell_type": "code",
   "execution_count": 8,
   "id": "9d3ee2cd-1034-4259-9996-5db499631f07",
   "metadata": {},
   "outputs": [],
   "source": [
    "#change release_date to datetime\n",
    "df['release_year'] = df['release_date'].apply(lambda x: x.split('-')[0])\n",
    "df.drop(columns = ['release_date'], inplace = True)"
   ]
  },
  {
   "cell_type": "code",
   "execution_count": 9,
   "id": "00a66b45-4239-4194-a106-c7cedd9655ab",
   "metadata": {},
   "outputs": [],
   "source": [
    "#Change duration in ms to seconds and drop duration_ms column\n",
    "df['duration'] = df['duration_ms'].apply(lambda x: round(x/1000))\n",
    "df.drop(columns = ['duration_ms'], inplace = True)"
   ]
  },
  {
   "cell_type": "code",
   "execution_count": 10,
   "id": "08880693-5ba2-4e63-998a-04e648c19c8e",
   "metadata": {},
   "outputs": [
    {
     "data": {
      "text/html": [
       "<div>\n",
       "<style scoped>\n",
       "    .dataframe tbody tr th:only-of-type {\n",
       "        vertical-align: middle;\n",
       "    }\n",
       "\n",
       "    .dataframe tbody tr th {\n",
       "        vertical-align: top;\n",
       "    }\n",
       "\n",
       "    .dataframe thead th {\n",
       "        text-align: right;\n",
       "    }\n",
       "</style>\n",
       "<table border=\"1\" class=\"dataframe\">\n",
       "  <thead>\n",
       "    <tr style=\"text-align: right;\">\n",
       "      <th></th>\n",
       "      <th>id</th>\n",
       "      <th>title</th>\n",
       "      <th>all_artists</th>\n",
       "      <th>popularity</th>\n",
       "      <th>danceability</th>\n",
       "      <th>energy</th>\n",
       "      <th>key</th>\n",
       "      <th>loudness</th>\n",
       "      <th>mode</th>\n",
       "      <th>acousticness</th>\n",
       "      <th>instrumentalness</th>\n",
       "      <th>liveness</th>\n",
       "      <th>valence</th>\n",
       "      <th>tempo</th>\n",
       "      <th>release_year</th>\n",
       "      <th>duration</th>\n",
       "    </tr>\n",
       "  </thead>\n",
       "  <tbody>\n",
       "    <tr>\n",
       "      <th>0</th>\n",
       "      <td>2ROJOb98GorxStuOuZWcGd</td>\n",
       "      <td>Have You Ever Loved A Woman?</td>\n",
       "      <td>Derek &amp; The Dominos</td>\n",
       "      <td>61</td>\n",
       "      <td>0.303</td>\n",
       "      <td>0.648</td>\n",
       "      <td>0</td>\n",
       "      <td>-6.795</td>\n",
       "      <td>1</td>\n",
       "      <td>0.6420</td>\n",
       "      <td>0.053000</td>\n",
       "      <td>0.4070</td>\n",
       "      <td>0.644</td>\n",
       "      <td>170.379</td>\n",
       "      <td>1970</td>\n",
       "      <td>413</td>\n",
       "    </tr>\n",
       "    <tr>\n",
       "      <th>1</th>\n",
       "      <td>2Qj1FilGsXITZbFVmVeoLy</td>\n",
       "      <td>I'm Tore Down</td>\n",
       "      <td>Freddie King</td>\n",
       "      <td>57</td>\n",
       "      <td>0.640</td>\n",
       "      <td>0.496</td>\n",
       "      <td>2</td>\n",
       "      <td>-11.124</td>\n",
       "      <td>1</td>\n",
       "      <td>0.6160</td>\n",
       "      <td>0.000046</td>\n",
       "      <td>0.1830</td>\n",
       "      <td>0.954</td>\n",
       "      <td>116.632</td>\n",
       "      <td>1971</td>\n",
       "      <td>253</td>\n",
       "    </tr>\n",
       "    <tr>\n",
       "      <th>2</th>\n",
       "      <td>2FtX5tOFUVOyjcGQiuGR8f</td>\n",
       "      <td>Damn Right, I've Got the Blues</td>\n",
       "      <td>Buddy Guy</td>\n",
       "      <td>57</td>\n",
       "      <td>0.353</td>\n",
       "      <td>0.921</td>\n",
       "      <td>2</td>\n",
       "      <td>-5.640</td>\n",
       "      <td>1</td>\n",
       "      <td>0.0488</td>\n",
       "      <td>0.065000</td>\n",
       "      <td>0.3140</td>\n",
       "      <td>0.526</td>\n",
       "      <td>145.589</td>\n",
       "      <td>1991</td>\n",
       "      <td>272</td>\n",
       "    </tr>\n",
       "    <tr>\n",
       "      <th>3</th>\n",
       "      <td>6f3OYG5R630tjwFIHIE7j2</td>\n",
       "      <td>Scratch My Back</td>\n",
       "      <td>The Fabulous Thunderbirds</td>\n",
       "      <td>56</td>\n",
       "      <td>0.775</td>\n",
       "      <td>0.499</td>\n",
       "      <td>4</td>\n",
       "      <td>-7.181</td>\n",
       "      <td>1</td>\n",
       "      <td>0.4960</td>\n",
       "      <td>0.021900</td>\n",
       "      <td>0.1140</td>\n",
       "      <td>0.862</td>\n",
       "      <td>121.056</td>\n",
       "      <td>1979</td>\n",
       "      <td>233</td>\n",
       "    </tr>\n",
       "    <tr>\n",
       "      <th>4</th>\n",
       "      <td>4VCl2a5JvdrEx6PL2P29ty</td>\n",
       "      <td>The Thrill Is Gone</td>\n",
       "      <td>B.B. King</td>\n",
       "      <td>0</td>\n",
       "      <td>0.554</td>\n",
       "      <td>0.516</td>\n",
       "      <td>9</td>\n",
       "      <td>-6.819</td>\n",
       "      <td>0</td>\n",
       "      <td>0.2240</td>\n",
       "      <td>0.286000</td>\n",
       "      <td>0.0548</td>\n",
       "      <td>0.562</td>\n",
       "      <td>90.309</td>\n",
       "      <td>2014</td>\n",
       "      <td>324</td>\n",
       "    </tr>\n",
       "  </tbody>\n",
       "</table>\n",
       "</div>"
      ],
      "text/plain": [
       "                       id                           title  \\\n",
       "0  2ROJOb98GorxStuOuZWcGd    Have You Ever Loved A Woman?   \n",
       "1  2Qj1FilGsXITZbFVmVeoLy                   I'm Tore Down   \n",
       "2  2FtX5tOFUVOyjcGQiuGR8f  Damn Right, I've Got the Blues   \n",
       "3  6f3OYG5R630tjwFIHIE7j2                 Scratch My Back   \n",
       "4  4VCl2a5JvdrEx6PL2P29ty              The Thrill Is Gone   \n",
       "\n",
       "                 all_artists  popularity  danceability  energy  key  loudness  \\\n",
       "0        Derek & The Dominos          61         0.303   0.648    0    -6.795   \n",
       "1               Freddie King          57         0.640   0.496    2   -11.124   \n",
       "2                  Buddy Guy          57         0.353   0.921    2    -5.640   \n",
       "3  The Fabulous Thunderbirds          56         0.775   0.499    4    -7.181   \n",
       "4                  B.B. King           0         0.554   0.516    9    -6.819   \n",
       "\n",
       "   mode  acousticness  instrumentalness  liveness  valence    tempo  \\\n",
       "0     1        0.6420          0.053000    0.4070    0.644  170.379   \n",
       "1     1        0.6160          0.000046    0.1830    0.954  116.632   \n",
       "2     1        0.0488          0.065000    0.3140    0.526  145.589   \n",
       "3     1        0.4960          0.021900    0.1140    0.862  121.056   \n",
       "4     0        0.2240          0.286000    0.0548    0.562   90.309   \n",
       "\n",
       "  release_year  duration  \n",
       "0         1970       413  \n",
       "1         1971       253  \n",
       "2         1991       272  \n",
       "3         1979       233  \n",
       "4         2014       324  "
      ]
     },
     "execution_count": 10,
     "metadata": {},
     "output_type": "execute_result"
    }
   ],
   "source": [
    "df.head()"
   ]
  },
  {
   "cell_type": "code",
   "execution_count": 11,
   "id": "3bded506-876f-43f8-a0b6-33c020d58995",
   "metadata": {
    "scrolled": true,
    "tags": []
   },
   "outputs": [],
   "source": [
    "# Joining 'title' and 'all_artist' columns\n",
    "df['song_artist'] = df['title'] + '-' + df['all_artists']\n",
    "df.drop(columns = ['title', 'all_artists'], inplace = True)"
   ]
  },
  {
   "cell_type": "markdown",
   "id": "594830d1-88f1-4e1c-9188-2e85c12efdb5",
   "metadata": {},
   "source": [
    "---\n",
    "https://towardsdatascience.com/machine-learning-and-recommender-systems-using-your-own-spotify-data-4918d80632e3\n",
    "FEATURE engineering:\n",
    "- Buketing: Popularity classificarle entre rangos en (popular, Medio popular, No popular) \n",
    "(https://www.youtube.com/watch?v=5bx3ccjSxro   min 11)(#https://www.youtube.com/watch?v=XDbj6PxaSf0 min 7)\n",
    "- What age are you feeling like: old school vibes, New gen\n",
    "- Hacer lo de weighting con el release date pero dandonle muy poca importancia!\n",
    "- min 5: #https://www.youtube.com/watch?v=XDbj6PxaSf0\n",
    "\n",
    "Para buscar o replace con porcentaje: min 16: https://www.youtube.com/watch?v=aHdgGnlIewk&list=TLPQMTgwMTIwMjLOQNHMg9wb3w&index=10\n",
    "\n",
    "#Buscar caracteristicas de cada mood y hacer feature engineering\n",
    "\n",
    "CREAR UNA PLAYLIST SEGUN EL PLAN QUE QUIERAS: PREGAME, ROADTRIP, DESCANSAR, CHILL, WORKOUT, STUDY. (maybe dar mas general tipo chill, motivation, party, rest.\n",
    "\n",
    "FEED in 3 canciones que sean del plan que te cunde y luego elige dos o tres opciones que te damos.\n",
    "\n",
    "EVALUATION METRIC: https://www.youtube.com/watch?v=v_mONWiFv0k&list=TLPQMjAwMTIwMjJJUuP7ZXiQDQ&index=7 min12 + 19"
   ]
  },
  {
   "cell_type": "markdown",
   "id": "5b7a9d6e-ccc1-421e-b41f-6df10d68ea28",
   "metadata": {},
   "source": [
    "----\n",
    "# Modeling\n",
    "\n",
    "- Kmeans\n",
    "- DBScans"
   ]
  },
  {
   "cell_type": "markdown",
   "id": "f87a2d50-5c60-4303-965f-1d9c702644a2",
   "metadata": {},
   "source": [
    "### 1. Kmeans \n",
    "(clase 8.01)\n",
    "\n",
    "From the above, note that $k$-Means clustering:\n",
    "- is really fast!\n",
    "- can only create convex clusters. This implies that its clusters can always be linearly separated.\n",
    "- may have to be run multiple times to get the best clusters.\n",
    "\n",
    "Because we know more or less how many genres there are we can pick a fair k for our clustering --> 15"
   ]
  },
  {
   "cell_type": "code",
   "execution_count": 12,
   "id": "4ae04af6-1070-4bab-9f50-77d7114f801e",
   "metadata": {},
   "outputs": [],
   "source": [
    "from sklearn.datasets import make_blobs\n",
    "from sklearn.cluster import KMeans\n",
    "from sklearn.preprocessing import StandardScaler\n",
    "import matplotlib\n",
    "\n",
    "matplotlib.style.use('ggplot')"
   ]
  },
  {
   "cell_type": "code",
   "execution_count": 13,
   "id": "50f693c3-b25a-4e75-a576-79ee0269a2b7",
   "metadata": {},
   "outputs": [
    {
     "data": {
      "text/plain": [
       "Index(['id', 'popularity', 'danceability', 'energy', 'key', 'loudness', 'mode',\n",
       "       'acousticness', 'instrumentalness', 'liveness', 'valence', 'tempo',\n",
       "       'release_year', 'duration', 'song_artist'],\n",
       "      dtype='object')"
      ]
     },
     "execution_count": 13,
     "metadata": {},
     "output_type": "execute_result"
    }
   ],
   "source": [
    "df.columns"
   ]
  },
  {
   "cell_type": "code",
   "execution_count": 14,
   "id": "412eb2e0-3228-4971-9d5d-4907411fc171",
   "metadata": {},
   "outputs": [],
   "source": [
    "# another way to OHE: https://www.youtube.com/watch?v=CIfZi0niNE0"
   ]
  },
  {
   "cell_type": "code",
   "execution_count": 15,
   "id": "0d40169e-d723-49fd-889d-d75e0a3b2a9a",
   "metadata": {},
   "outputs": [],
   "source": [
    "df['release_year'] = df['release_year'].astype('int')"
   ]
  },
  {
   "cell_type": "code",
   "execution_count": 16,
   "id": "06cc8572-73ba-4f73-96a5-e3ec3b7d9f54",
   "metadata": {},
   "outputs": [],
   "source": [
    "# Let's prepare our X matrix\n",
    "X = df[['popularity', 'danceability', 'energy', 'key', 'loudness', 'mode',\n",
    "       'acousticness', 'instrumentalness', 'liveness', 'valence', 'tempo',\n",
    "       'release_year', 'duration']].copy()\n"
   ]
  },
  {
   "cell_type": "code",
   "execution_count": 17,
   "id": "2059a7b1-8402-4324-bc7c-0ea3a2db3404",
   "metadata": {},
   "outputs": [],
   "source": [
    "sc = StandardScaler()\n",
    "X_sc = sc.fit_transform(X)"
   ]
  },
  {
   "cell_type": "code",
   "execution_count": 18,
   "id": "97483792-46a7-478b-9a3a-21b2768d8e1b",
   "metadata": {},
   "outputs": [],
   "source": [
    "#k = 15 #Because more or less 15 genres\n",
    "#km = KMeans(n_clusters=k, random_state=42)\n",
    "#km.fit(X_sc)\n",
    "\n",
    "#y_km = km.predict(X_sc)\n",
    "#centers = km.cluster_centers_"
   ]
  },
  {
   "cell_type": "markdown",
   "id": "a291598d-d0f6-49d9-9369-d961a143a741",
   "metadata": {},
   "source": [
    "#### Visually verifying cluster labels"
   ]
  },
  {
   "cell_type": "markdown",
   "id": "34d09535-72ea-4871-b3e2-35076f2de9c7",
   "metadata": {},
   "source": [
    "The silhouette value measures how similar a point is to its own cluster (cohesion) compared to other clusters (separation).The range of the Silhouette value is between +1 and -1. A high value is desirable and indicates that the point is placed in the correct cluster.\n",
    "\n",
    "Generally, Euclidean Distance is used as the distance metric between two points.\n",
    "\n"
   ]
  },
  {
   "cell_type": "code",
   "execution_count": 19,
   "id": "e528de2a-1ad4-4522-9621-19794e18f7d5",
   "metadata": {},
   "outputs": [
    {
     "name": "stdout",
     "output_type": "stream",
     "text": [
      "2 0.27855656164726755\n",
      "3 0.11892858915307065\n",
      "4 0.11792981523123279\n",
      "5 0.10423688733182944\n",
      "6 0.10554433923268781\n",
      "7 0.11128333573555634\n",
      "8 0.11550823281384687\n",
      "9 0.10948166649668897\n",
      "10 0.11354945344958661\n",
      "11 0.10124324008611185\n",
      "12 0.10386380445472702\n",
      "13 0.10526757062567314\n",
      "14 0.1006804778002577\n"
     ]
    }
   ],
   "source": [
    "from sklearn.metrics import silhouette_score\n",
    "for i in range(2, 15):\n",
    "    km = KMeans(n_clusters = i, random_state = 42).fit(X_sc)\n",
    "    print(i, silhouette_score(X_sc, km.labels_, metric = 'euclidean'))"
   ]
  },
  {
   "cell_type": "code",
   "execution_count": 20,
   "id": "89764370-1107-427e-bed9-a7fd131297f3",
   "metadata": {},
   "outputs": [],
   "source": [
    "y_km = km.predict(X_sc)\n",
    "centers = km.cluster_centers_"
   ]
  },
  {
   "cell_type": "code",
   "execution_count": 42,
   "id": "4d57a636-9c92-4d0b-9e47-c3d7a83669ae",
   "metadata": {},
   "outputs": [],
   "source": [
    "#k = 15 #Because more or less 15 genres\n",
    "km = KMeans(n_clusters=2, random_state=42)\n",
    "km.fit(X_sc)\n",
    "\n",
    "y_km = km.predict(X_sc)\n",
    "centers = km.cluster_centers_"
   ]
  },
  {
   "cell_type": "code",
   "execution_count": 43,
   "id": "89934641-2f09-4133-be20-dd6fd432dbc2",
   "metadata": {
    "tags": []
   },
   "outputs": [
    {
     "name": "stderr",
     "output_type": "stream",
     "text": [
      "/Users/hansbaumberger/opt/anaconda3/envs/dsi-111/lib/python3.8/site-packages/seaborn/_decorators.py:36: FutureWarning: Pass the following variables as keyword args: x, y. From version 0.12, the only valid positional argument will be `data`, and passing other arguments without an explicit keyword will result in an error or misinterpretation.\n",
      "  warnings.warn(\n"
     ]
    },
    {
     "data": {
      "image/png": "[encoded data removed]",
      "text/plain": [
       "<Figure size 432x288 with 1 Axes>"
      ]
     },
     "metadata": {},
     "output_type": "display_data"
    }
   ],
   "source": [
    "#Joining two graphs together\n",
    "sns.scatterplot(X_sc[:, 0], X_sc[:, 1], c = y_km, s = 20, cmap = 'viridis')\n",
    "plt.scatter(centers[:, 0], centers[:, 1], c = 'black', s = 100);"
   ]
  },
  {
   "cell_type": "code",
   "execution_count": null,
   "id": "7b32388c-d3f5-49f3-83ea-5e886af73243",
   "metadata": {},
   "outputs": [],
   "source": []
  }
 ],
 "metadata": {
  "kernelspec": {
   "display_name": "Python 3",
   "language": "python",
   "name": "python3"
  },
  "language_info": {
   "codemirror_mode": {
    "name": "ipython",
    "version": 3
   },
   "file_extension": ".py",
   "mimetype": "text/x-python",
   "name": "python",
   "nbconvert_exporter": "python",
   "pygments_lexer": "ipython3",
   "version": "3.8.8"
  }
 },
 "nbformat": 4,
 "nbformat_minor": 5
}
